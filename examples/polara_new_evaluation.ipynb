{
 "cells": [
  {
   "cell_type": "code",
   "execution_count": 1,
   "metadata": {},
   "outputs": [],
   "source": [
    "from collections import namedtuple\n",
    "\n",
    "import pandas as pd\n",
    "import numpy as np\n",
    "from scipy.sparse import csr_matrix"
   ]
  },
  {
   "cell_type": "code",
   "execution_count": 23,
   "metadata": {},
   "outputs": [],
   "source": [
    "from polara.recommender.evaluation import assemble_scoring_matrices, build_rank_matrix, matrix_from_observations, split_positive, generate_hits_data\n",
    "from polara.recommender.evaluation import get_mrr_score, get_ndcr_discounts, get_ndcg_score, get_ndcl_score\n",
    "from polara.recommender.evaluation import get_hits, get_relevance_scores, get_ranking_scores\n",
    "from polara.recommender.evaluation import  _get_hits, _get_relevance_scores, _get_ranking_scores\n",
    "from polara.datasets.movielens import get_movielens_data\n",
    "from polara.recommender.data import RecommenderData\n",
    "from polara.recommender.models import SVDModel"
   ]
  },
  {
   "cell_type": "code",
   "execution_count": null,
   "metadata": {},
   "outputs": [],
   "source": []
  },
  {
   "cell_type": "markdown",
   "metadata": {},
   "source": [
    "# Simple examples"
   ]
  },
  {
   "cell_type": "markdown",
   "metadata": {},
   "source": [
    "## from wiki\n",
    "based on https://en.wikipedia.org/wiki/Discounted_cumulative_gain"
   ]
  },
  {
   "cell_type": "code",
   "execution_count": 11,
   "metadata": {},
   "outputs": [],
   "source": [
    "swp = None\n",
    "\n",
    "data = pd.DataFrame({'userid': [0,0,0,0,0,0,0,0],\n",
    "                     'movieid': [0,1,2,3,4,5,6,7],\n",
    "                    'rating':[3, 2, 3, 0, 1, 2, 3, 2]})\n",
    "recs = np.array([[0,1,2,3,4,5]])\n",
    "hsz = data.shape[0]"
   ]
  },
  {
   "cell_type": "code",
   "execution_count": 12,
   "metadata": {},
   "outputs": [],
   "source": [
    "topk = recs.shape[1]\n",
    "shp = (recs.shape[0], max(recs.max(), data['movieid'].max())+1)"
   ]
  },
  {
   "cell_type": "code",
   "execution_count": 20,
   "metadata": {},
   "outputs": [],
   "source": [
    "rankm, hrank, mrank, evalm, ehits, emiss = assemble_scoring_matrices(recs, data, 'userid', 'movieid', None, 'rating')"
   ]
  },
  {
   "cell_type": "code",
   "execution_count": 33,
   "metadata": {},
   "outputs": [],
   "source": [
    "discm, idisc = get_ndcr_discounts(rankm, evalm, topk)"
   ]
  },
  {
   "cell_type": "code",
   "execution_count": 34,
   "metadata": {},
   "outputs": [
    {
     "data": {
      "text/plain": [
       "0.75616402981683351"
      ]
     },
     "execution_count": 34,
     "metadata": {},
     "output_type": "execute_result"
    }
   ],
   "source": [
    "get_ndcg_score(ehits, discm, idisc, alternative=False)"
   ]
  },
  {
   "cell_type": "markdown",
   "metadata": {},
   "source": [
    "the result is slightly worse (expected value is 0.785), as normalization is based on the full holdout, not just topk elements  \n",
    "this is an intentional behavior in order to support NDCL score calculation when switch_positive is set"
   ]
  },
  {
   "cell_type": "markdown",
   "metadata": {},
   "source": [
    "## hand-crafted example"
   ]
  },
  {
   "cell_type": "code",
   "execution_count": 49,
   "metadata": {},
   "outputs": [],
   "source": [
    "swp = 3\n",
    "\n",
    "data = pd.DataFrame({'userid': [0,0, 1,1, 2,2],\n",
    "                     'movieid': [0,1, 2,3, 4,5],\n",
    "                    'rating':[2,3, 1,3, 5,4]})\n",
    "recs = np.array([[1,0], [2,3], [5,4]])\n",
    "hsz = 2"
   ]
  },
  {
   "cell_type": "code",
   "execution_count": 53,
   "metadata": {},
   "outputs": [],
   "source": [
    "topk = recs.shape[1]\n",
    "shp = (recs.shape[0], max(recs.max(), data['movieid'].max())+1)"
   ]
  },
  {
   "cell_type": "code",
   "execution_count": 54,
   "metadata": {},
   "outputs": [
    {
     "data": {
      "text/html": [
       "<div>\n",
       "<style scoped>\n",
       "    .dataframe tbody tr th:only-of-type {\n",
       "        vertical-align: middle;\n",
       "    }\n",
       "\n",
       "    .dataframe tbody tr th {\n",
       "        vertical-align: top;\n",
       "    }\n",
       "\n",
       "    .dataframe thead th {\n",
       "        text-align: right;\n",
       "    }\n",
       "</style>\n",
       "<table border=\"1\" class=\"dataframe\">\n",
       "  <thead>\n",
       "    <tr style=\"text-align: right;\">\n",
       "      <th></th>\n",
       "      <th></th>\n",
       "      <th>rating</th>\n",
       "    </tr>\n",
       "    <tr>\n",
       "      <th>userid</th>\n",
       "      <th>movieid</th>\n",
       "      <th></th>\n",
       "    </tr>\n",
       "  </thead>\n",
       "  <tbody>\n",
       "    <tr>\n",
       "      <th rowspan=\"2\" valign=\"top\">0</th>\n",
       "      <th>0</th>\n",
       "      <td>2</td>\n",
       "    </tr>\n",
       "    <tr>\n",
       "      <th>1</th>\n",
       "      <td>3</td>\n",
       "    </tr>\n",
       "    <tr>\n",
       "      <th rowspan=\"2\" valign=\"top\">1</th>\n",
       "      <th>2</th>\n",
       "      <td>1</td>\n",
       "    </tr>\n",
       "    <tr>\n",
       "      <th>3</th>\n",
       "      <td>3</td>\n",
       "    </tr>\n",
       "    <tr>\n",
       "      <th rowspan=\"2\" valign=\"top\">2</th>\n",
       "      <th>4</th>\n",
       "      <td>5</td>\n",
       "    </tr>\n",
       "    <tr>\n",
       "      <th>5</th>\n",
       "      <td>4</td>\n",
       "    </tr>\n",
       "  </tbody>\n",
       "</table>\n",
       "</div>"
      ],
      "text/plain": [
       "                rating\n",
       "userid movieid        \n",
       "0      0             2\n",
       "       1             3\n",
       "1      2             1\n",
       "       3             3\n",
       "2      4             5\n",
       "       5             4"
      ]
     },
     "execution_count": 54,
     "metadata": {},
     "output_type": "execute_result"
    }
   ],
   "source": [
    "data.set_index(['userid', 'movieid']).sort_index()"
   ]
  },
  {
   "cell_type": "code",
   "execution_count": 55,
   "metadata": {},
   "outputs": [],
   "source": [
    "if swp is None:\n",
    "    is_positive = None\n",
    "else:\n",
    "    is_positive = data.rating>=swp"
   ]
  },
  {
   "cell_type": "code",
   "execution_count": 56,
   "metadata": {},
   "outputs": [],
   "source": [
    "rankm, hrank, mrank, evalm, ehits, emiss = assemble_scoring_matrices(recs, data, 'userid', 'movieid', is_positive, 'rating')"
   ]
  },
  {
   "cell_type": "code",
   "execution_count": 57,
   "metadata": {},
   "outputs": [],
   "source": [
    "discm, idisc = get_ndcr_discounts(rankm, evalm, topk)"
   ]
  },
  {
   "cell_type": "code",
   "execution_count": 58,
   "metadata": {},
   "outputs": [
    {
     "data": {
      "text/plain": [
       "0.86062517437112918"
      ]
     },
     "execution_count": 58,
     "metadata": {},
     "output_type": "execute_result"
    }
   ],
   "source": [
    "get_ndcg_score(ehits, discm, idisc, alternative=False)"
   ]
  },
  {
   "cell_type": "code",
   "execution_count": 60,
   "metadata": {},
   "outputs": [
    {
     "data": {
      "text/plain": [
       "0.86165416690705199"
      ]
     },
     "execution_count": 60,
     "metadata": {},
     "output_type": "execute_result"
    }
   ],
   "source": [
    "get_ndcl_score(emiss, discm, idisc, swp, alternative=False)"
   ]
  },
  {
   "cell_type": "code",
   "execution_count": null,
   "metadata": {},
   "outputs": [],
   "source": []
  },
  {
   "cell_type": "markdown",
   "metadata": {},
   "source": [
    "# Movielens"
   ]
  },
  {
   "cell_type": "code",
   "execution_count": 76,
   "metadata": {},
   "outputs": [],
   "source": [
    "ml_data = get_movielens_data('c:/Users/evfro/Downloads/ml-1m.zip')"
   ]
  },
  {
   "cell_type": "code",
   "execution_count": 77,
   "metadata": {},
   "outputs": [
    {
     "data": {
      "text/html": [
       "<div>\n",
       "<style scoped>\n",
       "    .dataframe tbody tr th:only-of-type {\n",
       "        vertical-align: middle;\n",
       "    }\n",
       "\n",
       "    .dataframe tbody tr th {\n",
       "        vertical-align: top;\n",
       "    }\n",
       "\n",
       "    .dataframe thead th {\n",
       "        text-align: right;\n",
       "    }\n",
       "</style>\n",
       "<table border=\"1\" class=\"dataframe\">\n",
       "  <thead>\n",
       "    <tr style=\"text-align: right;\">\n",
       "      <th></th>\n",
       "      <th>userid</th>\n",
       "      <th>movieid</th>\n",
       "      <th>rating</th>\n",
       "    </tr>\n",
       "  </thead>\n",
       "  <tbody>\n",
       "    <tr>\n",
       "      <th>0</th>\n",
       "      <td>1</td>\n",
       "      <td>1193</td>\n",
       "      <td>5</td>\n",
       "    </tr>\n",
       "    <tr>\n",
       "      <th>1</th>\n",
       "      <td>1</td>\n",
       "      <td>661</td>\n",
       "      <td>3</td>\n",
       "    </tr>\n",
       "    <tr>\n",
       "      <th>2</th>\n",
       "      <td>1</td>\n",
       "      <td>914</td>\n",
       "      <td>3</td>\n",
       "    </tr>\n",
       "    <tr>\n",
       "      <th>3</th>\n",
       "      <td>1</td>\n",
       "      <td>3408</td>\n",
       "      <td>4</td>\n",
       "    </tr>\n",
       "    <tr>\n",
       "      <th>4</th>\n",
       "      <td>1</td>\n",
       "      <td>2355</td>\n",
       "      <td>5</td>\n",
       "    </tr>\n",
       "  </tbody>\n",
       "</table>\n",
       "</div>"
      ],
      "text/plain": [
       "   userid  movieid  rating\n",
       "0       1     1193       5\n",
       "1       1      661       3\n",
       "2       1      914       3\n",
       "3       1     3408       4\n",
       "4       1     2355       5"
      ]
     },
     "execution_count": 77,
     "metadata": {},
     "output_type": "execute_result"
    }
   ],
   "source": [
    "ml_data.head()"
   ]
  },
  {
   "cell_type": "code",
   "execution_count": 78,
   "metadata": {},
   "outputs": [],
   "source": [
    "dm = RecommenderData(ml_data, 'userid', 'movieid', 'rating')"
   ]
  },
  {
   "cell_type": "code",
   "execution_count": 79,
   "metadata": {},
   "outputs": [
    {
     "data": {
      "text/plain": [
       "{'holdout_size': 3,\n",
       " 'negative_prediction': False,\n",
       " 'permute_tops': False,\n",
       " 'random_holdout': False,\n",
       " 'shuffle_data': False,\n",
       " 'test_fold': 5,\n",
       " 'test_ratio': 0.2,\n",
       " 'test_sample': None,\n",
       " 'test_unseen_users': True}"
      ]
     },
     "execution_count": 79,
     "metadata": {},
     "output_type": "execute_result"
    }
   ],
   "source": [
    "dm.get_configuration()"
   ]
  },
  {
   "cell_type": "code",
   "execution_count": 80,
   "metadata": {},
   "outputs": [
    {
     "name": "stdout",
     "output_type": "stream",
     "text": [
      "Preparing data...\n",
      "19 unique movieid's within 26 testset interactions were filtered. Reason: not in the training data.\n",
      "1 unique movieid's within 1 holdout interactions were filtered. Reason: not in the training data.\n",
      "1 of 1208 userid's were filtered out from holdout. Reason: not enough items.\n",
      "1 userid's were filtered out from testset. Reason: inconsistent with holdout.\n"
     ]
    }
   ],
   "source": [
    "dm.random_holdout = True\n",
    "dm.seed = 0\n",
    "dm.prepare()"
   ]
  },
  {
   "cell_type": "code",
   "execution_count": 81,
   "metadata": {},
   "outputs": [],
   "source": [
    "svd = SVDModel(dm)\n",
    "svd.rank = 50"
   ]
  },
  {
   "cell_type": "code",
   "execution_count": 82,
   "metadata": {},
   "outputs": [
    {
     "name": "stdout",
     "output_type": "stream",
     "text": [
      "PureSVD training time: 0.409694590708s\n"
     ]
    }
   ],
   "source": [
    "svd.build()"
   ]
  },
  {
   "cell_type": "code",
   "execution_count": 83,
   "metadata": {},
   "outputs": [],
   "source": [
    "swp = 4\n",
    "\n",
    "svd.switch_positive = swp\n",
    "data = dm.test.evalset\n",
    "recs = svd.recommendations\n",
    "hsz = dm.holdout_size"
   ]
  },
  {
   "cell_type": "code",
   "execution_count": 84,
   "metadata": {},
   "outputs": [],
   "source": [
    "topk = recs.shape[1]\n",
    "shp = (recs.shape[0], max(recs.max(), data['movieid'].max())+1)"
   ]
  },
  {
   "cell_type": "code",
   "execution_count": 89,
   "metadata": {},
   "outputs": [],
   "source": [
    "if swp is None:\n",
    "    is_positive = None\n",
    "else:\n",
    "    is_positive = (data.rating>=swp).values"
   ]
  },
  {
   "cell_type": "code",
   "execution_count": 92,
   "metadata": {},
   "outputs": [],
   "source": [
    "rankm, hrank, mrank, evalm, ehits, emiss = assemble_scoring_matrices(recs, data, 'userid', 'movieid', is_positive, 'rating')"
   ]
  },
  {
   "cell_type": "code",
   "execution_count": 95,
   "metadata": {},
   "outputs": [
    {
     "data": {
      "text/plain": [
       "<1207x3687 sparse matrix of type '<type 'numpy.int64'>'\n",
       "\twith 3621 stored elements in Compressed Sparse Row format>"
      ]
     },
     "execution_count": 95,
     "metadata": {},
     "output_type": "execute_result"
    }
   ],
   "source": [
    "evalm"
   ]
  },
  {
   "cell_type": "code",
   "execution_count": 93,
   "metadata": {},
   "outputs": [
    {
     "data": {
      "text/plain": [
       "<1207x3687 sparse matrix of type '<type 'numpy.int64'>'\n",
       "\twith 2346 stored elements in Compressed Sparse Row format>"
      ]
     },
     "execution_count": 93,
     "metadata": {},
     "output_type": "execute_result"
    }
   ],
   "source": [
    "ehits"
   ]
  },
  {
   "cell_type": "code",
   "execution_count": 96,
   "metadata": {},
   "outputs": [
    {
     "data": {
      "text/plain": [
       "<1207x3687 sparse matrix of type '<type 'numpy.int64'>'\n",
       "\twith 1275 stored elements in Compressed Sparse Row format>"
      ]
     },
     "execution_count": 96,
     "metadata": {},
     "output_type": "execute_result"
    }
   ],
   "source": [
    "emiss"
   ]
  },
  {
   "cell_type": "code",
   "execution_count": 97,
   "metadata": {},
   "outputs": [],
   "source": [
    "discm, idisc = get_ndcr_discounts(rankm, evalm, topk)"
   ]
  },
  {
   "cell_type": "code",
   "execution_count": 98,
   "metadata": {},
   "outputs": [
    {
     "data": {
      "text/plain": [
       "<1207x3687 sparse matrix of type '<type 'numpy.float64'>'\n",
       "\twith 12070 stored elements in Compressed Sparse Row format>"
      ]
     },
     "execution_count": 98,
     "metadata": {},
     "output_type": "execute_result"
    }
   ],
   "source": [
    "discm"
   ]
  },
  {
   "cell_type": "code",
   "execution_count": 99,
   "metadata": {},
   "outputs": [
    {
     "data": {
      "text/plain": [
       "<1207x3687 sparse matrix of type '<type 'numpy.float64'>'\n",
       "\twith 3621 stored elements in Compressed Sparse Row format>"
      ]
     },
     "execution_count": 99,
     "metadata": {},
     "output_type": "execute_result"
    }
   ],
   "source": [
    "idisc"
   ]
  },
  {
   "cell_type": "code",
   "execution_count": 100,
   "metadata": {},
   "outputs": [
    {
     "data": {
      "text/plain": [
       "0.1699440242225603"
      ]
     },
     "execution_count": 100,
     "metadata": {},
     "output_type": "execute_result"
    }
   ],
   "source": [
    "get_ndcg_score(ehits, discm, idisc, alternative=False)"
   ]
  },
  {
   "cell_type": "code",
   "execution_count": 101,
   "metadata": {},
   "outputs": [
    {
     "data": {
      "text/plain": [
       "0.064068896990696442"
      ]
     },
     "execution_count": 101,
     "metadata": {},
     "output_type": "execute_result"
    }
   ],
   "source": [
    "get_ndcl_score(emiss, discm, idisc, swp, alternative=False)"
   ]
  },
  {
   "cell_type": "code",
   "execution_count": 102,
   "metadata": {},
   "outputs": [
    {
     "data": {
      "text/plain": [
       "0.20079365079365077"
      ]
     },
     "execution_count": 102,
     "metadata": {},
     "output_type": "execute_result"
    }
   ],
   "source": [
    "get_mrr_score(hrank)"
   ]
  },
  {
   "cell_type": "markdown",
   "metadata": {},
   "source": [
    "compare with previous implementation"
   ]
  },
  {
   "cell_type": "code",
   "execution_count": 112,
   "metadata": {
    "code_folding": []
   },
   "outputs": [],
   "source": [
    "def get_matched_predictions(eval_data, holdout_size, recs):\n",
    "    userid, itemid = 'userid', 'movieid'\n",
    "    holdout_data = eval_data[itemid]\n",
    "    holdout_matrix = holdout_data.values.reshape(-1, holdout_size).astype(np.int64)\n",
    "\n",
    "    matched_predictions = (recs[:, :, None] == holdout_matrix[:, None, :])\n",
    "    return matched_predictions\n",
    "\n",
    "def get_feedback_data(eval_data, holdout_size):\n",
    "    feedback = 'rating'\n",
    "    eval_data = eval_data[feedback].values\n",
    "    feedback_data = eval_data.reshape(-1, holdout_size)\n",
    "    return feedback_data\n",
    "\n",
    "def get_rnkng_scores(eval_data, holdout_size, recs, switch_positive=None, alternative=False):\n",
    "    matched_predictions = get_matched_predictions(eval_data, holdout_size, recs)\n",
    "    feedback_data = get_feedback_data(eval_data, holdout_size)\n",
    "    \n",
    "    users_num, topk, holdout = matched_predictions.shape\n",
    "    ideal_scores_idx = np.argsort(feedback_data, axis=1)[:, ::-1] #returns column index only\n",
    "    ideal_scores_idx = np.ravel_multi_index((np.arange(feedback_data.shape[0])[:, None],\n",
    "                                             ideal_scores_idx), dims=feedback_data.shape)\n",
    "        \n",
    "    where = np.where\n",
    "    is_positive = feedback_data >= switch_positive\n",
    "    positive_feedback = where(is_positive, feedback_data, 0)\n",
    "    negative_feedback = where(~is_positive, feedback_data-switch_positive, 0)\n",
    "    \n",
    "    relevance_scores_pos = (matched_predictions * positive_feedback[:, None, :]).sum(axis=2)\n",
    "    relevance_scores_neg = (matched_predictions * negative_feedback[:, None, :]).sum(axis=2)\n",
    "    ideal_scores_pos = positive_feedback.ravel()[ideal_scores_idx]\n",
    "    ideal_scores_neg = negative_feedback.ravel()[ideal_scores_idx]\n",
    "    \n",
    "    if alternative:\n",
    "        relevance_scores_pos = 2**relevance_scores_pos - 1\n",
    "        relevance_scores_neg = 2.0**relevance_scores_neg - 1\n",
    "        ideal_scores_pos = 2**ideal_scores_pos - 1\n",
    "        ideal_scores_neg = 2.0**ideal_scores_neg - 1\n",
    "\n",
    "    disc_num = max(topk, holdout)\n",
    "    discount = np.log2(np.arange(2, disc_num+2))            \n",
    "    dcg = (relevance_scores_pos / discount[:topk]).sum(axis=1)\n",
    "    dcl = (relevance_scores_neg / -discount[:topk]).sum(axis=1)\n",
    "    idcg = (ideal_scores_pos / discount[:holdout]).sum(axis=1)\n",
    "    idcl = (ideal_scores_neg / -discount[:holdout]).sum(axis=1)\n",
    "    \n",
    "    with np.errstate(invalid='ignore'):\n",
    "        ndcg = np.nansum(dcg / idcg) / users_num\n",
    "        ndcl = np.nansum(dcl / idcl) / users_num\n",
    "\n",
    "    ranking_score = namedtuple('Ranking', ['nDCG', 'nDCL'])._make([ndcg, ndcl])\n",
    "    return ranking_score"
   ]
  },
  {
   "cell_type": "code",
   "execution_count": 113,
   "metadata": {},
   "outputs": [
    {
     "data": {
      "text/plain": [
       "Ranking(nDCG=0.1699440242225603, nDCL=0.064068896990696442)"
      ]
     },
     "execution_count": 113,
     "metadata": {},
     "output_type": "execute_result"
    }
   ],
   "source": [
    "get_rnkng_scores(data, hsz, recs, switch_positive=swp, alternative=False)"
   ]
  },
  {
   "cell_type": "code",
   "execution_count": 114,
   "metadata": {},
   "outputs": [
    {
     "data": {
      "text/plain": [
       "Ranking(nDCG=0.1699440242225603, nDCL=0.064068896990696442)"
      ]
     },
     "execution_count": 114,
     "metadata": {},
     "output_type": "execute_result"
    }
   ],
   "source": [
    "_get_ranking_scores(rankm, hrank, mrank, evalm, ehits, emiss, switch_positive=swp, topk=topk, alternative=False)"
   ]
  },
  {
   "cell_type": "code",
   "execution_count": null,
   "metadata": {},
   "outputs": [],
   "source": []
  },
  {
   "cell_type": "code",
   "execution_count": 115,
   "metadata": {},
   "outputs": [],
   "source": [
    "svd.not_rated_penalty = None"
   ]
  },
  {
   "cell_type": "code",
   "execution_count": 116,
   "metadata": {},
   "outputs": [
    {
     "data": {
      "text/plain": [
       "Hits(true_positive=602, true_negative=1143, false_positive=132, false_negative=1744)"
      ]
     },
     "execution_count": 116,
     "metadata": {},
     "output_type": "execute_result"
    }
   ],
   "source": [
    "svd.evaluate('hits')"
   ]
  },
  {
   "cell_type": "code",
   "execution_count": 117,
   "metadata": {},
   "outputs": [
    {
     "data": {
      "text/plain": [
       "Hits(true_positive=602, false_positive=132, true_negative=1143, false_negative=1744)"
      ]
     },
     "execution_count": 117,
     "metadata": {},
     "output_type": "execute_result"
    }
   ],
   "source": [
    "svd._evaluate('hits')"
   ]
  },
  {
   "cell_type": "code",
   "execution_count": null,
   "metadata": {},
   "outputs": [],
   "source": []
  },
  {
   "cell_type": "code",
   "execution_count": 118,
   "metadata": {},
   "outputs": [
    {
     "data": {
      "text/plain": [
       "Relevance(precision=0.39215686274509803, recall=0.24247445457056063, fallout=0.068903617785142215, specifity=0.6096382214857774, miss_rate=0.68710301021817177)"
      ]
     },
     "execution_count": 118,
     "metadata": {},
     "output_type": "execute_result"
    }
   ],
   "source": [
    "svd.evaluate('relevance')"
   ]
  },
  {
   "cell_type": "code",
   "execution_count": 119,
   "metadata": {},
   "outputs": [
    {
     "data": {
      "text/plain": [
       "Relevance(precision=0.39215686274509803, recall=0.24247445457056063, fallout=0.068903617785142215, specifity=0.6096382214857774, miss_rate=0.68710301021817177)"
      ]
     },
     "execution_count": 119,
     "metadata": {},
     "output_type": "execute_result"
    }
   ],
   "source": [
    "svd._evaluate('relevance')"
   ]
  },
  {
   "cell_type": "code",
   "execution_count": null,
   "metadata": {},
   "outputs": [],
   "source": []
  },
  {
   "cell_type": "code",
   "execution_count": 122,
   "metadata": {},
   "outputs": [
    {
     "data": {
      "text/plain": [
       "Ranking(nDCG=0.1699440242225603, nDCL=0.064068896990696442)"
      ]
     },
     "execution_count": 122,
     "metadata": {},
     "output_type": "execute_result"
    }
   ],
   "source": [
    "svd.evaluate('ranking')"
   ]
  },
  {
   "cell_type": "code",
   "execution_count": 123,
   "metadata": {},
   "outputs": [
    {
     "data": {
      "text/plain": [
       "Ranking(nDCG=0.1699440242225603, nDCL=0.064068896990696442)"
      ]
     },
     "execution_count": 123,
     "metadata": {},
     "output_type": "execute_result"
    }
   ],
   "source": [
    "svd._evaluate('ranking')"
   ]
  },
  {
   "cell_type": "code",
   "execution_count": null,
   "metadata": {},
   "outputs": [],
   "source": []
  },
  {
   "cell_type": "code",
   "execution_count": 124,
   "metadata": {},
   "outputs": [
    {
     "data": {
      "text/plain": [
       "Ranking(nDCG=0.073593470418241991, nDCL=0.022039537078199615)"
      ]
     },
     "execution_count": 124,
     "metadata": {},
     "output_type": "execute_result"
    }
   ],
   "source": [
    "svd.evaluate('ranking', topk=1)"
   ]
  },
  {
   "cell_type": "code",
   "execution_count": 125,
   "metadata": {},
   "outputs": [
    {
     "data": {
      "text/plain": [
       "Ranking(nDCG=0.073593470418241977, nDCL=0.022039537078199615)"
      ]
     },
     "execution_count": 125,
     "metadata": {},
     "output_type": "execute_result"
    }
   ],
   "source": [
    "svd._evaluate('ranking', topk=1)"
   ]
  },
  {
   "cell_type": "markdown",
   "metadata": {},
   "source": [
    "## Hand-picked test"
   ]
  },
  {
   "cell_type": "code",
   "execution_count": 140,
   "metadata": {},
   "outputs": [],
   "source": [
    "test_user = 98\n",
    "test_data = svd.data.test.evalset.query('userid=={}'.format(test_user))\n",
    "test_recs = svd.recommendations[test_user, :]"
   ]
  },
  {
   "cell_type": "code",
   "execution_count": 141,
   "metadata": {},
   "outputs": [],
   "source": [
    "topk = len(test_recs)"
   ]
  },
  {
   "cell_type": "code",
   "execution_count": 142,
   "metadata": {},
   "outputs": [
    {
     "name": "stdout",
     "output_type": "stream",
     "text": [
      "[1045 2469 1126 1173 2489  846 2638  524 1130 2553]\n"
     ]
    },
    {
     "data": {
      "text/html": [
       "<div>\n",
       "<style scoped>\n",
       "    .dataframe tbody tr th:only-of-type {\n",
       "        vertical-align: middle;\n",
       "    }\n",
       "\n",
       "    .dataframe tbody tr th {\n",
       "        vertical-align: top;\n",
       "    }\n",
       "\n",
       "    .dataframe thead th {\n",
       "        text-align: right;\n",
       "    }\n",
       "</style>\n",
       "<table border=\"1\" class=\"dataframe\">\n",
       "  <thead>\n",
       "    <tr style=\"text-align: right;\">\n",
       "      <th></th>\n",
       "      <th>userid</th>\n",
       "      <th>movieid</th>\n",
       "      <th>rating</th>\n",
       "    </tr>\n",
       "  </thead>\n",
       "  <tbody>\n",
       "    <tr>\n",
       "      <th>820166</th>\n",
       "      <td>98</td>\n",
       "      <td>1130</td>\n",
       "      <td>5</td>\n",
       "    </tr>\n",
       "    <tr>\n",
       "      <th>820164</th>\n",
       "      <td>98</td>\n",
       "      <td>1108</td>\n",
       "      <td>5</td>\n",
       "    </tr>\n",
       "    <tr>\n",
       "      <th>820140</th>\n",
       "      <td>98</td>\n",
       "      <td>1045</td>\n",
       "      <td>3</td>\n",
       "    </tr>\n",
       "  </tbody>\n",
       "</table>\n",
       "</div>"
      ],
      "text/plain": [
       "        userid  movieid  rating\n",
       "820166      98     1130       5\n",
       "820164      98     1108       5\n",
       "820140      98     1045       3"
      ]
     },
     "execution_count": 142,
     "metadata": {},
     "output_type": "execute_result"
    }
   ],
   "source": [
    "print test_recs\n",
    "test_data"
   ]
  },
  {
   "cell_type": "code",
   "execution_count": 143,
   "metadata": {},
   "outputs": [
    {
     "data": {
      "text/plain": [
       "820166     True\n",
       "820164    False\n",
       "820140     True\n",
       "Name: movieid, dtype: bool"
      ]
     },
     "execution_count": 143,
     "metadata": {},
     "output_type": "execute_result"
    }
   ],
   "source": [
    "test_data.loc[:, 'movieid'].isin(test_recs)"
   ]
  },
  {
   "cell_type": "code",
   "execution_count": 144,
   "metadata": {},
   "outputs": [],
   "source": [
    "(rankm, hrank, mrank,\n",
    " evalm, ehits, emiss) = assemble_scoring_matrices(test_recs, test_data,\n",
    "                                                  svd._key, svd._target,\n",
    "                                                  (test_data.rating>=swp).values, feedback='rating')"
   ]
  },
  {
   "cell_type": "code",
   "execution_count": 146,
   "metadata": {},
   "outputs": [
    {
     "data": {
      "text/plain": [
       "array([9], dtype=uint8)"
      ]
     },
     "execution_count": 146,
     "metadata": {},
     "output_type": "execute_result"
    }
   ],
   "source": [
    "hrank.data"
   ]
  },
  {
   "cell_type": "code",
   "execution_count": 147,
   "metadata": {},
   "outputs": [
    {
     "data": {
      "text/plain": [
       "array([1130])"
      ]
     },
     "execution_count": 147,
     "metadata": {},
     "output_type": "execute_result"
    }
   ],
   "source": [
    "hrank.indices"
   ]
  },
  {
   "cell_type": "code",
   "execution_count": 148,
   "metadata": {},
   "outputs": [
    {
     "data": {
      "text/plain": [
       "array([5, 5], dtype=int64)"
      ]
     },
     "execution_count": 148,
     "metadata": {},
     "output_type": "execute_result"
    }
   ],
   "source": [
    "ehits.data"
   ]
  },
  {
   "cell_type": "code",
   "execution_count": 149,
   "metadata": {},
   "outputs": [
    {
     "data": {
      "text/plain": [
       "array([1130, 1108])"
      ]
     },
     "execution_count": 149,
     "metadata": {},
     "output_type": "execute_result"
    }
   ],
   "source": [
    "ehits.indices"
   ]
  },
  {
   "cell_type": "code",
   "execution_count": 150,
   "metadata": {},
   "outputs": [],
   "source": [
    "discm, idisc = get_ndcr_discounts(rankm, evalm, topn=2)"
   ]
  },
  {
   "cell_type": "code",
   "execution_count": 151,
   "metadata": {},
   "outputs": [
    {
     "data": {
      "text/plain": [
       "array([ 1.        ,  0.63092975,  0.5       ,  0.43067656,  0.38685281,\n",
       "        0.35620719,  0.33333333,  0.31546488,  0.30103   ,  0.28906483])"
      ]
     },
     "execution_count": 151,
     "metadata": {},
     "output_type": "execute_result"
    }
   ],
   "source": [
    "discm.data"
   ]
  },
  {
   "cell_type": "code",
   "execution_count": 152,
   "metadata": {},
   "outputs": [
    {
     "data": {
      "text/plain": [
       "array([1045, 2469, 1126, 1173, 2489,  846, 2638,  524, 1130, 2553])"
      ]
     },
     "execution_count": 152,
     "metadata": {},
     "output_type": "execute_result"
    }
   ],
   "source": [
    "discm.indices"
   ]
  },
  {
   "cell_type": "code",
   "execution_count": 153,
   "metadata": {},
   "outputs": [
    {
     "data": {
      "text/plain": [
       "array([ 1.        ,  0.63092975,  0.5       ])"
      ]
     },
     "execution_count": 153,
     "metadata": {},
     "output_type": "execute_result"
    }
   ],
   "source": [
    "idisc.data"
   ]
  },
  {
   "cell_type": "code",
   "execution_count": 154,
   "metadata": {},
   "outputs": [
    {
     "data": {
      "text/plain": [
       "array([1108, 1130, 1045])"
      ]
     },
     "execution_count": 154,
     "metadata": {},
     "output_type": "execute_result"
    }
   ],
   "source": [
    "idisc.indices"
   ]
  },
  {
   "cell_type": "markdown",
   "metadata": {},
   "source": [
    "NDCG"
   ]
  },
  {
   "cell_type": "code",
   "execution_count": 155,
   "metadata": {},
   "outputs": [
    {
     "data": {
      "text/plain": [
       "0.18457569677956817"
      ]
     },
     "execution_count": 155,
     "metadata": {},
     "output_type": "execute_result"
    }
   ],
   "source": [
    "get_ndcg_score(ehits, discm, idisc, alternative=False)"
   ]
  },
  {
   "cell_type": "code",
   "execution_count": 158,
   "metadata": {},
   "outputs": [
    {
     "name": "stdout",
     "output_type": "stream",
     "text": [
      "rec rank [1 9]\n",
      "rec item [1045 1130]\n"
     ]
    }
   ],
   "source": [
    "print 'rec rank', np.where(np.isin(test_recs, test_data.movieid))[0] + 1\n",
    "print 'rec item', test_recs[np.isin(test_recs, test_data.movieid)]"
   ]
  },
  {
   "cell_type": "markdown",
   "metadata": {},
   "source": [
    "NDCL"
   ]
  },
  {
   "cell_type": "code",
   "execution_count": 164,
   "metadata": {},
   "outputs": [
    {
     "data": {
      "text/plain": [
       "array([3], dtype=int64)"
      ]
     },
     "execution_count": 164,
     "metadata": {},
     "output_type": "execute_result"
    }
   ],
   "source": [
    "emiss.data"
   ]
  },
  {
   "cell_type": "code",
   "execution_count": 165,
   "metadata": {},
   "outputs": [
    {
     "data": {
      "text/plain": [
       "array([1045])"
      ]
     },
     "execution_count": 165,
     "metadata": {},
     "output_type": "execute_result"
    }
   ],
   "source": [
    "emiss.indices"
   ]
  },
  {
   "cell_type": "code",
   "execution_count": 166,
   "metadata": {},
   "outputs": [
    {
     "data": {
      "text/plain": [
       "array([ 3.])"
      ]
     },
     "execution_count": 166,
     "metadata": {},
     "output_type": "execute_result"
    }
   ],
   "source": [
    "emiss.multiply(discm).data"
   ]
  },
  {
   "cell_type": "code",
   "execution_count": 167,
   "metadata": {},
   "outputs": [
    {
     "data": {
      "text/plain": [
       "<1x2639 sparse matrix of type '<type 'numpy.float64'>'\n",
       "\twith 1 stored elements in Compressed Sparse Row format>"
      ]
     },
     "execution_count": 167,
     "metadata": {},
     "output_type": "execute_result"
    }
   ],
   "source": [
    "emiss.multiply(idisc)"
   ]
  },
  {
   "cell_type": "code",
   "execution_count": 168,
   "metadata": {},
   "outputs": [
    {
     "data": {
      "text/plain": [
       "2.0"
      ]
     },
     "execution_count": 168,
     "metadata": {},
     "output_type": "execute_result"
    }
   ],
   "source": [
    "get_ndcl_score(emiss, discm, idisc, swp, alternative=False)"
   ]
  },
  {
   "cell_type": "code",
   "execution_count": null,
   "metadata": {},
   "outputs": [],
   "source": []
  },
  {
   "cell_type": "markdown",
   "metadata": {},
   "source": [
    "# Why normalization in NDCG is changed"
   ]
  },
  {
   "cell_type": "markdown",
   "metadata": {},
   "source": [
    "basically due to NDCL metric, which is \"the lower the better\"  \n",
    "this means that ideal score is 0"
   ]
  },
  {
   "cell_type": "markdown",
   "metadata": {},
   "source": [
    "regular case"
   ]
  },
  {
   "cell_type": "code",
   "execution_count": 46,
   "metadata": {},
   "outputs": [
    {
     "name": "stdout",
     "output_type": "stream",
     "text": [
      "dcg  1.50514997832\n",
      "idcg 8.15464876786\n",
      "ndcg 0.18457569678\n"
     ]
    }
   ],
   "source": [
    "cg = lambda rel, pos: rel / np.log2(1+pos)\n",
    "\n",
    "print 'dcg ', cg(5, 9)\n",
    "print 'idcg', cg(5, 1) + cg(5, 2)\n",
    "print 'ndcg', cg(5, 9) / (cg(5, 1) + cg(5, 2))"
   ]
  },
  {
   "cell_type": "markdown",
   "metadata": {},
   "source": [
    "singular, but still ok"
   ]
  },
  {
   "cell_type": "code",
   "execution_count": 161,
   "metadata": {},
   "outputs": [
    {
     "name": "stdout",
     "output_type": "stream",
     "text": [
      " dcl  0\n",
      "idcl 0\n",
      "ndcl [ nan]\n"
     ]
    }
   ],
   "source": [
    "cl = lambda rel, pos: (np.exp(rel-4)-1) / (-np.log2(1+pos))\n",
    "\n",
    "print 'dcl ', 0\n",
    "print 'idcl', 0\n",
    "with np.errstate(invalid='ignore'):\n",
    "    print 'ndcl', np.array([0.]) / np.array([0.])"
   ]
  },
  {
   "cell_type": "markdown",
   "metadata": {},
   "source": [
    "broken case  \n",
    "when dcl is above zere and idcl is exactly 0 (due to only topk selected result, where negatove examples are not included at all)"
   ]
  },
  {
   "cell_type": "code",
   "execution_count": 163,
   "metadata": {},
   "outputs": [
    {
     "name": "stdout",
     "output_type": "stream",
     "text": [
      "dcl  0.316060279414\n",
      "idcl 0\n",
      "ndcl [ inf]\n"
     ]
    },
    {
     "name": "stderr",
     "output_type": "stream",
     "text": [
      "C:\\Users\\evfro\\Anaconda3\\envs\\sc2\\lib\\site-packages\\ipykernel_launcher.py:6: RuntimeWarning: divide by zero encountered in divide\n",
      "  \n"
     ]
    }
   ],
   "source": [
    "cl = lambda rel, pos: (np.exp(rel-4)-1) / (-np.log2(1+pos))\n",
    "\n",
    "print 'dcl ', cl(3, 3)\n",
    "print 'idcl', 0\n",
    "with np.errstate(invalid='ignore'): # will not catch an error\n",
    "    print 'ndcl', cl(3, 3) / np.array([0.])"
   ]
  },
  {
   "cell_type": "markdown",
   "metadata": {},
   "source": [
    "therefore with standard normalization NDCL may generate inf doesn't make a lot of sense, especially when trying to average across many users"
   ]
  }
 ],
 "metadata": {
  "kernelspec": {
   "display_name": "Python 2 [sc2]",
   "language": "python",
   "name": "python2"
  },
  "language_info": {
   "codemirror_mode": {
    "name": "ipython",
    "version": 2
   },
   "file_extension": ".py",
   "mimetype": "text/x-python",
   "name": "python",
   "nbconvert_exporter": "python",
   "pygments_lexer": "ipython2",
   "version": "2.7.14"
  },
  "toc": {
   "nav_menu": {},
   "number_sections": true,
   "sideBar": true,
   "skip_h1_title": false,
   "title_cell": "Table of Contents",
   "title_sidebar": "Contents",
   "toc_cell": false,
   "toc_position": {},
   "toc_section_display": true,
   "toc_window_display": false
  }
 },
 "nbformat": 4,
 "nbformat_minor": 2
}
